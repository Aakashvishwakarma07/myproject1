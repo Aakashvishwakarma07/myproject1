{
 "cells": [
  {
   "cell_type": "code",
   "execution_count": null,
   "id": "27b48670",
   "metadata": {},
   "outputs": [],
   "source": [
    "import bs4\n",
    "import requests\n",
    "import pandas as pd"
   ]
  },
  {
   "cell_type": "code",
   "execution_count": null,
   "id": "647cda72",
   "metadata": {},
   "outputs": [],
   "source": [
    "url=\"https://www.flipkart.com/search?q=apple%20iphone\"\n",
    "d=requests.get(url)\n",
    "s=bs4.BeautifulSoup(d.text,'html.parser')\n",
    "print(s.prettify())"
   ]
  },
  {
   "cell_type": "code",
   "execution_count": null,
   "id": "3f47fd34",
   "metadata": {},
   "outputs": [],
   "source": [
    "phone=s.find_all('div',{'class':'_4rR01T'})\n",
    "print(len(phone))"
   ]
  },
  {
   "cell_type": "code",
   "execution_count": null,
   "id": "44620ae8",
   "metadata": {},
   "outputs": [],
   "source": [
    "rating=s.find_all('div',{'class':'_3LWZlK'})\n",
    "price=s.find_all('div',{'class':'_30jeq3 _1_WHN1'})\n",
    "#print(rating)\n",
    "#print(len(rating))\n",
    "#print(price)\n",
    "#print(len(price))"
   ]
  },
  {
   "cell_type": "code",
   "execution_count": null,
   "id": "b9a1878f",
   "metadata": {},
   "outputs": [],
   "source": [
    "p=[]\n",
    "r=[]\n",
    "a=[]\n",
    "for i in phone:\n",
    "    p.append(i.text)\n",
    "for j in range(len(p)):\n",
    "    r.append(rating[j].text)\n",
    "for k in price:\n",
    "    a.append(k.text)\n",
    "p"
   ]
  },
  {
   "cell_type": "code",
   "execution_count": null,
   "id": "6411c629",
   "metadata": {},
   "outputs": [],
   "source": [
    "\n",
    "len(r)"
   ]
  },
  {
   "cell_type": "code",
   "execution_count": null,
   "id": "fc1efc35",
   "metadata": {},
   "outputs": [],
   "source": []
  },
  {
   "cell_type": "code",
   "execution_count": null,
   "id": "52a09ca6",
   "metadata": {},
   "outputs": [],
   "source": []
  },
  {
   "cell_type": "code",
   "execution_count": null,
   "id": "8e024fd0",
   "metadata": {},
   "outputs": [],
   "source": [
    "data={'Phone':p,'Rating':r,'Price':a}\n",
    "df=pd.DataFrame(data)"
   ]
  },
  {
   "cell_type": "code",
   "execution_count": null,
   "id": "a43ac778",
   "metadata": {},
   "outputs": [],
   "source": [
    "df"
   ]
  },
  {
   "cell_type": "code",
   "execution_count": null,
   "id": "d4cec3b6",
   "metadata": {},
   "outputs": [],
   "source": [
    "df.to_excel('phones.xlsx',index=False)"
   ]
  },
  {
   "cell_type": "code",
   "execution_count": null,
   "id": "dab4b313",
   "metadata": {},
   "outputs": [],
   "source": []
  },
  {
   "cell_type": "code",
   "execution_count": null,
   "id": "61d9a18b",
   "metadata": {},
   "outputs": [],
   "source": []
  },
  {
   "cell_type": "code",
   "execution_count": null,
   "id": "d60ad48e",
   "metadata": {},
   "outputs": [],
   "source": []
  },
  {
   "cell_type": "code",
   "execution_count": null,
   "id": "e85b5662",
   "metadata": {},
   "outputs": [],
   "source": []
  },
  {
   "cell_type": "code",
   "execution_count": null,
   "id": "a0299738",
   "metadata": {},
   "outputs": [],
   "source": []
  },
  {
   "cell_type": "code",
   "execution_count": null,
   "id": "6723ddd2",
   "metadata": {},
   "outputs": [],
   "source": []
  },
  {
   "cell_type": "code",
   "execution_count": null,
   "id": "8d5a86b6",
   "metadata": {},
   "outputs": [],
   "source": []
  },
  {
   "cell_type": "code",
   "execution_count": null,
   "id": "813e90e9",
   "metadata": {},
   "outputs": [],
   "source": []
  }
 ],
 "metadata": {
  "kernelspec": {
   "display_name": "Python 3 (ipykernel)",
   "language": "python",
   "name": "python3"
  },
  "language_info": {
   "codemirror_mode": {
    "name": "ipython",
    "version": 3
   },
   "file_extension": ".py",
   "mimetype": "text/x-python",
   "name": "python",
   "nbconvert_exporter": "python",
   "pygments_lexer": "ipython3",
   "version": "3.9.13"
  }
 },
 "nbformat": 4,
 "nbformat_minor": 5
}
